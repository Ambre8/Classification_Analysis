{
 "cells": [
  {
   "cell_type": "markdown",
   "id": "17aab181",
   "metadata": {},
   "source": [
    "# Analysing the dataset : GOT_character_predictions"
   ]
  },
  {
   "cell_type": "code",
   "execution_count": 559,
   "id": "c7ec0389",
   "metadata": {},
   "outputs": [
    {
     "data": {
      "text/html": [
       "<div>\n",
       "<style scoped>\n",
       "    .dataframe tbody tr th:only-of-type {\n",
       "        vertical-align: middle;\n",
       "    }\n",
       "\n",
       "    .dataframe tbody tr th {\n",
       "        vertical-align: top;\n",
       "    }\n",
       "\n",
       "    .dataframe thead th {\n",
       "        text-align: right;\n",
       "    }\n",
       "</style>\n",
       "<table border=\"1\" class=\"dataframe\">\n",
       "  <thead>\n",
       "    <tr style=\"text-align: right;\">\n",
       "      <th></th>\n",
       "      <th>S.No</th>\n",
       "      <th>name</th>\n",
       "      <th>title</th>\n",
       "      <th>culture</th>\n",
       "      <th>dateOfBirth</th>\n",
       "      <th>mother</th>\n",
       "      <th>father</th>\n",
       "      <th>heir</th>\n",
       "      <th>house</th>\n",
       "      <th>spouse</th>\n",
       "      <th>book1_A_Game_Of_Thrones</th>\n",
       "      <th>book2_A_Clash_Of_Kings</th>\n",
       "      <th>book3_A_Storm_Of_Swords</th>\n",
       "      <th>book4_A_Feast_For_Crows</th>\n",
       "      <th>book5_A_Dance_with_Dragons</th>\n",
       "      <th>isAliveMother</th>\n",
       "      <th>isAliveFather</th>\n",
       "      <th>isAliveHeir</th>\n",
       "      <th>isAliveSpouse</th>\n",
       "      <th>isMarried</th>\n",
       "      <th>isNoble</th>\n",
       "      <th>age</th>\n",
       "      <th>numDeadRelations</th>\n",
       "      <th>popularity</th>\n",
       "      <th>isAlive</th>\n",
       "    </tr>\n",
       "  </thead>\n",
       "  <tbody>\n",
       "    <tr>\n",
       "      <th>0</th>\n",
       "      <td>1</td>\n",
       "      <td>Viserys II Targaryen</td>\n",
       "      <td>NaN</td>\n",
       "      <td>NaN</td>\n",
       "      <td>NaN</td>\n",
       "      <td>Rhaenyra Targaryen</td>\n",
       "      <td>Daemon Targaryen</td>\n",
       "      <td>Aegon IV Targaryen</td>\n",
       "      <td>NaN</td>\n",
       "      <td>NaN</td>\n",
       "      <td>0</td>\n",
       "      <td>0</td>\n",
       "      <td>0</td>\n",
       "      <td>0</td>\n",
       "      <td>0</td>\n",
       "      <td>1.0</td>\n",
       "      <td>0.0</td>\n",
       "      <td>0.0</td>\n",
       "      <td>NaN</td>\n",
       "      <td>0</td>\n",
       "      <td>0</td>\n",
       "      <td>NaN</td>\n",
       "      <td>11</td>\n",
       "      <td>0.605351</td>\n",
       "      <td>0</td>\n",
       "    </tr>\n",
       "    <tr>\n",
       "      <th>1</th>\n",
       "      <td>2</td>\n",
       "      <td>Walder Frey</td>\n",
       "      <td>Lord of the Crossing</td>\n",
       "      <td>Rivermen</td>\n",
       "      <td>208.0</td>\n",
       "      <td>NaN</td>\n",
       "      <td>NaN</td>\n",
       "      <td>NaN</td>\n",
       "      <td>House Frey</td>\n",
       "      <td>Perra Royce</td>\n",
       "      <td>1</td>\n",
       "      <td>1</td>\n",
       "      <td>1</td>\n",
       "      <td>1</td>\n",
       "      <td>1</td>\n",
       "      <td>NaN</td>\n",
       "      <td>NaN</td>\n",
       "      <td>NaN</td>\n",
       "      <td>1.0</td>\n",
       "      <td>1</td>\n",
       "      <td>1</td>\n",
       "      <td>97.0</td>\n",
       "      <td>1</td>\n",
       "      <td>0.896321</td>\n",
       "      <td>1</td>\n",
       "    </tr>\n",
       "    <tr>\n",
       "      <th>2</th>\n",
       "      <td>3</td>\n",
       "      <td>Addison Hill</td>\n",
       "      <td>Ser</td>\n",
       "      <td>NaN</td>\n",
       "      <td>NaN</td>\n",
       "      <td>NaN</td>\n",
       "      <td>NaN</td>\n",
       "      <td>NaN</td>\n",
       "      <td>House Swyft</td>\n",
       "      <td>NaN</td>\n",
       "      <td>0</td>\n",
       "      <td>0</td>\n",
       "      <td>0</td>\n",
       "      <td>1</td>\n",
       "      <td>0</td>\n",
       "      <td>NaN</td>\n",
       "      <td>NaN</td>\n",
       "      <td>NaN</td>\n",
       "      <td>NaN</td>\n",
       "      <td>0</td>\n",
       "      <td>1</td>\n",
       "      <td>NaN</td>\n",
       "      <td>0</td>\n",
       "      <td>0.267559</td>\n",
       "      <td>1</td>\n",
       "    </tr>\n",
       "    <tr>\n",
       "      <th>3</th>\n",
       "      <td>4</td>\n",
       "      <td>Aemma Arryn</td>\n",
       "      <td>Queen</td>\n",
       "      <td>NaN</td>\n",
       "      <td>82.0</td>\n",
       "      <td>NaN</td>\n",
       "      <td>NaN</td>\n",
       "      <td>NaN</td>\n",
       "      <td>House Arryn</td>\n",
       "      <td>Viserys I Targaryen</td>\n",
       "      <td>0</td>\n",
       "      <td>0</td>\n",
       "      <td>0</td>\n",
       "      <td>0</td>\n",
       "      <td>0</td>\n",
       "      <td>NaN</td>\n",
       "      <td>NaN</td>\n",
       "      <td>NaN</td>\n",
       "      <td>0.0</td>\n",
       "      <td>1</td>\n",
       "      <td>1</td>\n",
       "      <td>23.0</td>\n",
       "      <td>0</td>\n",
       "      <td>0.183946</td>\n",
       "      <td>0</td>\n",
       "    </tr>\n",
       "    <tr>\n",
       "      <th>4</th>\n",
       "      <td>5</td>\n",
       "      <td>Sylva Santagar</td>\n",
       "      <td>Greenstone</td>\n",
       "      <td>Dornish</td>\n",
       "      <td>276.0</td>\n",
       "      <td>NaN</td>\n",
       "      <td>NaN</td>\n",
       "      <td>NaN</td>\n",
       "      <td>House Santagar</td>\n",
       "      <td>Eldon Estermont</td>\n",
       "      <td>0</td>\n",
       "      <td>0</td>\n",
       "      <td>0</td>\n",
       "      <td>1</td>\n",
       "      <td>0</td>\n",
       "      <td>NaN</td>\n",
       "      <td>NaN</td>\n",
       "      <td>NaN</td>\n",
       "      <td>1.0</td>\n",
       "      <td>1</td>\n",
       "      <td>1</td>\n",
       "      <td>29.0</td>\n",
       "      <td>0</td>\n",
       "      <td>0.043478</td>\n",
       "      <td>1</td>\n",
       "    </tr>\n",
       "    <tr>\n",
       "      <th>5</th>\n",
       "      <td>6</td>\n",
       "      <td>Tommen Baratheon</td>\n",
       "      <td>NaN</td>\n",
       "      <td>NaN</td>\n",
       "      <td>NaN</td>\n",
       "      <td>Cersei Lannister</td>\n",
       "      <td>Robert Baratheon</td>\n",
       "      <td>Myrcella Baratheon</td>\n",
       "      <td>NaN</td>\n",
       "      <td>NaN</td>\n",
       "      <td>0</td>\n",
       "      <td>0</td>\n",
       "      <td>0</td>\n",
       "      <td>0</td>\n",
       "      <td>0</td>\n",
       "      <td>1.0</td>\n",
       "      <td>1.0</td>\n",
       "      <td>1.0</td>\n",
       "      <td>NaN</td>\n",
       "      <td>0</td>\n",
       "      <td>0</td>\n",
       "      <td>NaN</td>\n",
       "      <td>5</td>\n",
       "      <td>1.000000</td>\n",
       "      <td>1</td>\n",
       "    </tr>\n",
       "    <tr>\n",
       "      <th>6</th>\n",
       "      <td>7</td>\n",
       "      <td>Valarr Targaryen</td>\n",
       "      <td>Hand of the King</td>\n",
       "      <td>Valyrian</td>\n",
       "      <td>183.0</td>\n",
       "      <td>NaN</td>\n",
       "      <td>NaN</td>\n",
       "      <td>NaN</td>\n",
       "      <td>House Targaryen</td>\n",
       "      <td>Kiera of Tyrosh</td>\n",
       "      <td>0</td>\n",
       "      <td>0</td>\n",
       "      <td>0</td>\n",
       "      <td>0</td>\n",
       "      <td>0</td>\n",
       "      <td>NaN</td>\n",
       "      <td>NaN</td>\n",
       "      <td>NaN</td>\n",
       "      <td>1.0</td>\n",
       "      <td>1</td>\n",
       "      <td>1</td>\n",
       "      <td>26.0</td>\n",
       "      <td>0</td>\n",
       "      <td>0.431438</td>\n",
       "      <td>0</td>\n",
       "    </tr>\n",
       "    <tr>\n",
       "      <th>7</th>\n",
       "      <td>8</td>\n",
       "      <td>Viserys I Targaryen</td>\n",
       "      <td>NaN</td>\n",
       "      <td>NaN</td>\n",
       "      <td>NaN</td>\n",
       "      <td>Alyssa Targaryen</td>\n",
       "      <td>Baelon Targaryen</td>\n",
       "      <td>Rhaenyra Targaryen</td>\n",
       "      <td>NaN</td>\n",
       "      <td>NaN</td>\n",
       "      <td>0</td>\n",
       "      <td>0</td>\n",
       "      <td>0</td>\n",
       "      <td>0</td>\n",
       "      <td>0</td>\n",
       "      <td>1.0</td>\n",
       "      <td>1.0</td>\n",
       "      <td>1.0</td>\n",
       "      <td>NaN</td>\n",
       "      <td>0</td>\n",
       "      <td>0</td>\n",
       "      <td>NaN</td>\n",
       "      <td>5</td>\n",
       "      <td>0.678930</td>\n",
       "      <td>0</td>\n",
       "    </tr>\n",
       "    <tr>\n",
       "      <th>8</th>\n",
       "      <td>9</td>\n",
       "      <td>Wilbert</td>\n",
       "      <td>Ser</td>\n",
       "      <td>NaN</td>\n",
       "      <td>NaN</td>\n",
       "      <td>NaN</td>\n",
       "      <td>NaN</td>\n",
       "      <td>NaN</td>\n",
       "      <td>NaN</td>\n",
       "      <td>NaN</td>\n",
       "      <td>0</td>\n",
       "      <td>0</td>\n",
       "      <td>1</td>\n",
       "      <td>0</td>\n",
       "      <td>0</td>\n",
       "      <td>NaN</td>\n",
       "      <td>NaN</td>\n",
       "      <td>NaN</td>\n",
       "      <td>NaN</td>\n",
       "      <td>0</td>\n",
       "      <td>1</td>\n",
       "      <td>NaN</td>\n",
       "      <td>0</td>\n",
       "      <td>0.006689</td>\n",
       "      <td>0</td>\n",
       "    </tr>\n",
       "    <tr>\n",
       "      <th>9</th>\n",
       "      <td>10</td>\n",
       "      <td>Wilbert Osgrey</td>\n",
       "      <td>Ser</td>\n",
       "      <td>NaN</td>\n",
       "      <td>NaN</td>\n",
       "      <td>NaN</td>\n",
       "      <td>NaN</td>\n",
       "      <td>NaN</td>\n",
       "      <td>House Osgrey</td>\n",
       "      <td>NaN</td>\n",
       "      <td>0</td>\n",
       "      <td>0</td>\n",
       "      <td>0</td>\n",
       "      <td>0</td>\n",
       "      <td>0</td>\n",
       "      <td>NaN</td>\n",
       "      <td>NaN</td>\n",
       "      <td>NaN</td>\n",
       "      <td>NaN</td>\n",
       "      <td>0</td>\n",
       "      <td>1</td>\n",
       "      <td>NaN</td>\n",
       "      <td>0</td>\n",
       "      <td>0.020067</td>\n",
       "      <td>1</td>\n",
       "    </tr>\n",
       "  </tbody>\n",
       "</table>\n",
       "</div>"
      ],
      "text/plain": [
       "   S.No                  name                 title   culture  dateOfBirth              mother            father                heir            house               spouse  book1_A_Game_Of_Thrones  book2_A_Clash_Of_Kings  book3_A_Storm_Of_Swords  book4_A_Feast_For_Crows  book5_A_Dance_with_Dragons  isAliveMother  isAliveFather  isAliveHeir  isAliveSpouse  isMarried  isNoble   age  numDeadRelations  popularity  isAlive\n",
       "0     1  Viserys II Targaryen                   NaN       NaN          NaN  Rhaenyra Targaryen  Daemon Targaryen  Aegon IV Targaryen              NaN                  NaN                        0                       0                        0                        0                           0            1.0            0.0          0.0            NaN          0        0   NaN                11    0.605351        0\n",
       "1     2           Walder Frey  Lord of the Crossing  Rivermen        208.0                 NaN               NaN                 NaN       House Frey          Perra Royce                        1                       1                        1                        1                           1            NaN            NaN          NaN            1.0          1        1  97.0                 1    0.896321        1\n",
       "2     3          Addison Hill                   Ser       NaN          NaN                 NaN               NaN                 NaN      House Swyft                  NaN                        0                       0                        0                        1                           0            NaN            NaN          NaN            NaN          0        1   NaN                 0    0.267559        1\n",
       "3     4           Aemma Arryn                 Queen       NaN         82.0                 NaN               NaN                 NaN      House Arryn  Viserys I Targaryen                        0                       0                        0                        0                           0            NaN            NaN          NaN            0.0          1        1  23.0                 0    0.183946        0\n",
       "4     5        Sylva Santagar            Greenstone   Dornish        276.0                 NaN               NaN                 NaN   House Santagar      Eldon Estermont                        0                       0                        0                        1                           0            NaN            NaN          NaN            1.0          1        1  29.0                 0    0.043478        1\n",
       "5     6      Tommen Baratheon                   NaN       NaN          NaN    Cersei Lannister  Robert Baratheon  Myrcella Baratheon              NaN                  NaN                        0                       0                        0                        0                           0            1.0            1.0          1.0            NaN          0        0   NaN                 5    1.000000        1\n",
       "6     7      Valarr Targaryen      Hand of the King  Valyrian        183.0                 NaN               NaN                 NaN  House Targaryen      Kiera of Tyrosh                        0                       0                        0                        0                           0            NaN            NaN          NaN            1.0          1        1  26.0                 0    0.431438        0\n",
       "7     8   Viserys I Targaryen                   NaN       NaN          NaN    Alyssa Targaryen  Baelon Targaryen  Rhaenyra Targaryen              NaN                  NaN                        0                       0                        0                        0                           0            1.0            1.0          1.0            NaN          0        0   NaN                 5    0.678930        0\n",
       "8     9               Wilbert                   Ser       NaN          NaN                 NaN               NaN                 NaN              NaN                  NaN                        0                       0                        1                        0                           0            NaN            NaN          NaN            NaN          0        1   NaN                 0    0.006689        0\n",
       "9    10        Wilbert Osgrey                   Ser       NaN          NaN                 NaN               NaN                 NaN     House Osgrey                  NaN                        0                       0                        0                        0                           0            NaN            NaN          NaN            NaN          0        1   NaN                 0    0.020067        1"
      ]
     },
     "execution_count": 559,
     "metadata": {},
     "output_type": "execute_result"
    }
   ],
   "source": [
    "# importing libraries\n",
    "import pandas as pd # data science essentials\n",
    "import matplotlib.pyplot as plt # data visualization\n",
    "import seaborn as sns # enhanced data visualization\n",
    "import statsmodels.formula.api as smf # regression modeling\n",
    "from sklearn.model_selection import train_test_split # train/test split \n",
    "import numpy as np # mathematical essentials\n",
    "import sklearn.linear_model \n",
    "import random            as rand                     # random number gen\n",
    "from sklearn.model_selection import train_test_split # train-test split\n",
    "from sklearn.linear_model import LogisticRegression  # logistic regression\n",
    "import statsmodels.formula.api as smf                # logistic regression\n",
    "from sklearn.metrics import confusion_matrix         # confusion matrix\n",
    "from sklearn.metrics import roc_auc_score            # auc score\n",
    "from sklearn.neighbors import KNeighborsClassifier   # KNN for classification\n",
    "from sklearn.neighbors import KNeighborsRegressor    # KNN for regression\n",
    "from sklearn.preprocessing import StandardScaler     # standard scaler\n",
    "# libraries for classification trees\n",
    "from sklearn.tree import DecisionTreeClassifier      # classification trees\n",
    "from sklearn.tree import export_graphviz             # exports graphics\n",
    "from six import StringIO           # saves objects in memory\n",
    "from IPython.display import Image                    # displays on frontend                                 \n",
    "from sklearn.model_selection import RandomizedSearchCV     # hyperparameter tuning\n",
    "from sklearn.metrics import make_scorer              # customizable scorer\n",
    "from sklearn.ensemble import RandomForestClassifier     # random forest\n",
    "from sklearn.ensemble import GradientBoostingClassifier # gbm\n",
    "from sklearn.tree import plot_tree                   # tree plots\n",
    "\n",
    "# setting pandas print options\n",
    "pd.set_option('display.max_rows', 500)\n",
    "pd.set_option('display.max_columns', 500)\n",
    "pd.set_option('display.width', 1000)\n",
    "\n",
    "# specifying the path and file name\n",
    "file = './GOT_character_predictions.xlsx'\n",
    "\n",
    "# reading the file into Python\n",
    "got = pd.read_excel(file)\n",
    "\n",
    "got.head(n=10)"
   ]
  },
  {
   "cell_type": "code",
   "execution_count": 511,
   "id": "c3083bb9",
   "metadata": {},
   "outputs": [
    {
     "name": "stdout",
     "output_type": "stream",
     "text": [
      "<class 'pandas.core.frame.DataFrame'>\n",
      "RangeIndex: 1946 entries, 0 to 1945\n",
      "Data columns (total 25 columns):\n",
      " #   Column                      Non-Null Count  Dtype  \n",
      "---  ------                      --------------  -----  \n",
      " 0   S.No                        1946 non-null   int64  \n",
      " 1   name                        1946 non-null   object \n",
      " 2   title                       938 non-null    object \n",
      " 3   culture                     677 non-null    object \n",
      " 4   dateOfBirth                 433 non-null    float64\n",
      " 5   mother                      21 non-null     object \n",
      " 6   father                      26 non-null     object \n",
      " 7   heir                        23 non-null     object \n",
      " 8   house                       1519 non-null   object \n",
      " 9   spouse                      276 non-null    object \n",
      " 10  book1_A_Game_Of_Thrones     1946 non-null   int64  \n",
      " 11  book2_A_Clash_Of_Kings      1946 non-null   int64  \n",
      " 12  book3_A_Storm_Of_Swords     1946 non-null   int64  \n",
      " 13  book4_A_Feast_For_Crows     1946 non-null   int64  \n",
      " 14  book5_A_Dance_with_Dragons  1946 non-null   int64  \n",
      " 15  isAliveMother               21 non-null     float64\n",
      " 16  isAliveFather               26 non-null     float64\n",
      " 17  isAliveHeir                 23 non-null     float64\n",
      " 18  isAliveSpouse               276 non-null    float64\n",
      " 19  isMarried                   1946 non-null   int64  \n",
      " 20  isNoble                     1946 non-null   int64  \n",
      " 21  age                         433 non-null    float64\n",
      " 22  numDeadRelations            1946 non-null   int64  \n",
      " 23  popularity                  1946 non-null   float64\n",
      " 24  isAlive                     1946 non-null   int64  \n",
      "dtypes: float64(7), int64(10), object(8)\n",
      "memory usage: 380.2+ KB\n"
     ]
    }
   ],
   "source": [
    "got.info()"
   ]
  },
  {
   "cell_type": "code",
   "execution_count": 512,
   "id": "f0797948",
   "metadata": {
    "scrolled": false
   },
   "outputs": [
    {
     "data": {
      "text/plain": [
       "S.No                             0\n",
       "name                             0\n",
       "title                         1008\n",
       "culture                       1269\n",
       "dateOfBirth                   1513\n",
       "mother                        1925\n",
       "father                        1920\n",
       "heir                          1923\n",
       "house                          427\n",
       "spouse                        1670\n",
       "book1_A_Game_Of_Thrones          0\n",
       "book2_A_Clash_Of_Kings           0\n",
       "book3_A_Storm_Of_Swords          0\n",
       "book4_A_Feast_For_Crows          0\n",
       "book5_A_Dance_with_Dragons       0\n",
       "isAliveMother                 1925\n",
       "isAliveFather                 1920\n",
       "isAliveHeir                   1923\n",
       "isAliveSpouse                 1670\n",
       "isMarried                        0\n",
       "isNoble                          0\n",
       "age                           1513\n",
       "numDeadRelations                 0\n",
       "popularity                       0\n",
       "isAlive                          0\n",
       "dtype: int64"
      ]
     },
     "execution_count": 512,
     "metadata": {},
     "output_type": "execute_result"
    }
   ],
   "source": [
    "got.isnull().sum(axis=0)"
   ]
  },
  {
   "cell_type": "code",
   "execution_count": 513,
   "id": "96c64604",
   "metadata": {},
   "outputs": [
    {
     "data": {
      "text/plain": [
       "329          0.0\n",
       "790          0.0\n",
       "1684   -277980.0\n",
       "1868   -298001.0\n",
       "Name: age, dtype: float64"
      ]
     },
     "execution_count": 513,
     "metadata": {},
     "output_type": "execute_result"
    }
   ],
   "source": [
    "got.loc[:,'age'][got.loc[:,'age']<=0]"
   ]
  },
  {
   "cell_type": "code",
   "execution_count": 514,
   "id": "80a6cfea",
   "metadata": {
    "scrolled": true
   },
   "outputs": [
    {
     "data": {
      "text/plain": [
       "m_title            1008\n",
       "m_culture          1269\n",
       "m_mother           1925\n",
       "m_father           1920\n",
       "m_heir             1923\n",
       "m_house             427\n",
       "m_spouse           1670\n",
       "m_isAliveMother    1925\n",
       "m_isAliveFather    1920\n",
       "m_isAliveHeir      1923\n",
       "m_isAliveSpouse    1670\n",
       "m_age              1513\n",
       "dtype: int64"
      ]
     },
     "execution_count": 514,
     "metadata": {},
     "output_type": "execute_result"
    }
   ],
   "source": [
    "# looping to detect features with missing values\n",
    "for col in got:\n",
    "\n",
    "    # creating columns with 1s if missing and 0 if not\n",
    "    if got[col].isnull().astype(int).sum() > 0:\n",
    "        got['m_'+col] = got[col].isnull().astype(int)\n",
    "\n",
    "\n",
    "# summing the missing value flags to check the results of the loop above\n",
    "got[    ['m_title', 'm_culture', 'm_mother', 'm_father', \n",
    "         'm_heir', 'm_house','m_spouse', 'm_isAliveMother', \n",
    "         'm_isAliveFather', 'm_isAliveHeir', 'm_isAliveSpouse', 'm_age' ]    ].sum(axis = 0)"
   ]
  },
  {
   "cell_type": "markdown",
   "id": "86c6c1f5",
   "metadata": {},
   "source": [
    "I created new variables from those that had NaN values that correspond to missing values. I need to \"clean\" the dataset before starting creating training and testing sets."
   ]
  },
  {
   "cell_type": "code",
   "execution_count": 515,
   "id": "457e8fde",
   "metadata": {},
   "outputs": [
    {
     "data": {
      "text/plain": [
       "S.No                             0\n",
       "name                             0\n",
       "title                         1008\n",
       "culture                       1269\n",
       "dateOfBirth                   1513\n",
       "mother                        1925\n",
       "father                        1920\n",
       "heir                          1923\n",
       "house                          427\n",
       "spouse                        1670\n",
       "book1_A_Game_Of_Thrones          0\n",
       "book2_A_Clash_Of_Kings           0\n",
       "book3_A_Storm_Of_Swords          0\n",
       "book4_A_Feast_For_Crows          0\n",
       "book5_A_Dance_with_Dragons       0\n",
       "isAliveMother                 1925\n",
       "isAliveFather                 1920\n",
       "isAliveHeir                   1923\n",
       "isAliveSpouse                 1670\n",
       "isMarried                        0\n",
       "isNoble                          0\n",
       "age                           1513\n",
       "numDeadRelations                 0\n",
       "popularity                       0\n",
       "isAlive                          0\n",
       "m_title                          0\n",
       "m_culture                        0\n",
       "m_dateOfBirth                    0\n",
       "m_mother                         0\n",
       "m_father                         0\n",
       "m_heir                           0\n",
       "m_house                          0\n",
       "m_spouse                         0\n",
       "m_isAliveMother                  0\n",
       "m_isAliveFather                  0\n",
       "m_isAliveHeir                    0\n",
       "m_isAliveSpouse                  0\n",
       "m_age                            0\n",
       "dtype: int64"
      ]
     },
     "execution_count": 515,
     "metadata": {},
     "output_type": "execute_result"
    }
   ],
   "source": [
    "got.isnull().sum(axis=0)"
   ]
  },
  {
   "cell_type": "markdown",
   "id": "df588567",
   "metadata": {},
   "source": [
    "I created new variables from the one that had values equal to 0 which correspond to null values."
   ]
  },
  {
   "cell_type": "code",
   "execution_count": 516,
   "id": "875e3cb0",
   "metadata": {},
   "outputs": [
    {
     "name": "stdout",
     "output_type": "stream",
     "text": [
      "\n",
      "                     No\t\tYes\n",
      "                   ---------------------\n",
      "numDeadRelations  | 1801\t145\n",
      "\n"
     ]
    }
   ],
   "source": [
    "# counting the number of zeroes for \n",
    "numDeadRelations_zeroes   = len(got['numDeadRelations'][got['numDeadRelations']==0]) # numDeadRelations\n",
    "\n",
    "## the table below has been coded for you ##\n",
    "\n",
    "# printing a table of the results\n",
    "print(f\"\"\"\n",
    "                     No\\t\\tYes\n",
    "                   ---------------------\n",
    "numDeadRelations  | {numDeadRelations_zeroes}\\t{len(got) - numDeadRelations_zeroes}\n",
    "\"\"\")"
   ]
  },
  {
   "cell_type": "code",
   "execution_count": 517,
   "id": "458205dd",
   "metadata": {},
   "outputs": [],
   "source": [
    "# placeholder variables\n",
    "got['has_numDeadRelations'] = 0\n",
    "\n",
    "\n",
    "\n",
    "for index, value in got.iterrows():\n",
    "    \n",
    "\n",
    "    # numDeadRelations\n",
    "    if got.loc[index, 'numDeadRelations'] > 0:\n",
    "        got.loc[index, 'has_numDeadRelations'] = 1\n"
   ]
  },
  {
   "cell_type": "code",
   "execution_count": 518,
   "id": "e99a1d28",
   "metadata": {},
   "outputs": [],
   "source": [
    "got.rename(columns={'S.No':'S_No'},inplace=True)"
   ]
  },
  {
   "cell_type": "code",
   "execution_count": 519,
   "id": "bbb7db81",
   "metadata": {
    "scrolled": false
   },
   "outputs": [
    {
     "data": {
      "text/plain": [
       "isAlive                       1.00\n",
       "isAliveHeir                   0.38\n",
       "book4_A_Feast_For_Crows       0.27\n",
       "isAliveFather                 0.20\n",
       "isAliveSpouse                 0.17\n",
       "m_age                         0.15\n",
       "m_dateOfBirth                 0.15\n",
       "m_isAliveFather               0.14\n",
       "m_isAliveMother               0.14\n",
       "m_father                      0.14\n",
       "m_mother                      0.14\n",
       "m_heir                        0.13\n",
       "m_isAliveHeir                 0.13\n",
       "age                           0.09\n",
       "m_isAliveSpouse               0.05\n",
       "m_spouse                      0.05\n",
       "m_title                       0.04\n",
       "m_culture                     0.04\n",
       "m_house                       0.04\n",
       "book5_A_Dance_with_Dragons    0.03\n",
       "book3_A_Storm_Of_Swords       0.01\n",
       "isNoble                      -0.04\n",
       "isAliveMother                -0.04\n",
       "isMarried                    -0.05\n",
       "book2_A_Clash_Of_Kings       -0.07\n",
       "dateOfBirth                  -0.09\n",
       "S_No                         -0.13\n",
       "book1_A_Game_Of_Thrones      -0.15\n",
       "popularity                   -0.18\n",
       "numDeadRelations             -0.19\n",
       "has_numDeadRelations         -0.19\n",
       "Name: isAlive, dtype: float64"
      ]
     },
     "execution_count": 519,
     "metadata": {},
     "output_type": "execute_result"
    }
   ],
   "source": [
    "got_corr = got.corr(method='pearson').round(decimals=2)\n",
    "\n",
    "got_corr['isAlive'].sort_values(ascending = False)"
   ]
  },
  {
   "cell_type": "code",
   "execution_count": 520,
   "id": "da2e20c3",
   "metadata": {
    "scrolled": true
   },
   "outputs": [
    {
     "data": {
      "text/plain": [
       "1    0.75\n",
       "0    0.25\n",
       "Name: isAlive, dtype: float64"
      ]
     },
     "execution_count": 520,
     "metadata": {},
     "output_type": "execute_result"
    }
   ],
   "source": [
    "got.loc[ : ,'isAlive'].value_counts(normalize = True).round(decimals = 2)"
   ]
  },
  {
   "cell_type": "markdown",
   "id": "29d68a8a",
   "metadata": {
    "code_folding": []
   },
   "source": [
    "# Creating Training and Testing Sets and a Linear Regression"
   ]
  },
  {
   "cell_type": "code",
   "execution_count": 521,
   "id": "b5f3d840",
   "metadata": {},
   "outputs": [],
   "source": [
    "# declaring explanatory variables\n",
    "got_data=got.drop('isAlive',axis=1)\n",
    "\n",
    "\n",
    "# declaring response variable\n",
    "got_target=got.loc[ : , \"isAlive\"]"
   ]
  },
  {
   "cell_type": "markdown",
   "id": "9d777b94",
   "metadata": {},
   "source": [
    "I separated the dataset into two new variables between the variable Y, called the response variable, and the explanatory variables : respectively, got_target and got_data."
   ]
  },
  {
   "cell_type": "code",
   "execution_count": 522,
   "id": "a0c4b395",
   "metadata": {},
   "outputs": [],
   "source": [
    "# train-test split with stratification\n",
    "x_train, x_test, y_train, y_test = train_test_split(\n",
    "            got_data,\n",
    "            got_target,\n",
    "            test_size    = 0.10,\n",
    "            random_state = 219,\n",
    "            stratify     = got_target) # preserving balance\n",
    "\n",
    "\n",
    "# merging training data for statsmodels\n",
    "got_train = pd.concat([x_train, y_train], axis = 1)"
   ]
  },
  {
   "cell_type": "code",
   "execution_count": 523,
   "id": "b16016b4",
   "metadata": {},
   "outputs": [
    {
     "name": "stdout",
     "output_type": "stream",
     "text": [
      "\n",
      "\n",
      "Response Variable Proportions (Training Set)\n",
      "--------------------------------------------\n",
      "1    0.75\n",
      "0    0.25\n",
      "Name: isAlive, dtype: float64\n",
      "\n",
      "\n",
      "\n",
      "Response Variable Proportions (Testing Set)\n",
      "--------------------------------------------\n",
      "1    0.74\n",
      "0    0.26\n",
      "Name: isAlive, dtype: float64\n",
      "\n"
     ]
    }
   ],
   "source": [
    "# printing candidate variable set\n",
    "print(f\"\"\"\n",
    "\n",
    "Response Variable Proportions (Training Set)\n",
    "--------------------------------------------\n",
    "{y_train.value_counts(normalize = True).round(decimals = 2)}\n",
    "\n",
    "\n",
    "\n",
    "Response Variable Proportions (Testing Set)\n",
    "--------------------------------------------\n",
    "{y_test.value_counts(normalize = True).round(decimals = 2)}\n",
    "\"\"\")\n",
    "\n"
   ]
  },
  {
   "cell_type": "code",
   "execution_count": 524,
   "id": "ca4c9a52",
   "metadata": {
    "scrolled": false
   },
   "outputs": [
    {
     "name": "stdout",
     "output_type": "stream",
     "text": [
      " S_No + \n",
      " name + \n",
      " title + \n",
      " culture + \n",
      " dateOfBirth + \n",
      " mother + \n",
      " father + \n",
      " heir + \n",
      " house + \n",
      " spouse + \n",
      " book1_A_Game_Of_Thrones + \n",
      " book2_A_Clash_Of_Kings + \n",
      " book3_A_Storm_Of_Swords + \n",
      " book4_A_Feast_For_Crows + \n",
      " book5_A_Dance_with_Dragons + \n",
      " isAliveMother + \n",
      " isAliveFather + \n",
      " isAliveHeir + \n",
      " isAliveSpouse + \n",
      " isMarried + \n",
      " isNoble + \n",
      " age + \n",
      " numDeadRelations + \n",
      " popularity + \n",
      " m_title + \n",
      " m_culture + \n",
      " m_dateOfBirth + \n",
      " m_mother + \n",
      " m_father + \n",
      " m_heir + \n",
      " m_house + \n",
      " m_spouse + \n",
      " m_isAliveMother + \n",
      " m_isAliveFather + \n",
      " m_isAliveHeir + \n",
      " m_isAliveSpouse + \n",
      " m_age + \n",
      " has_numDeadRelations + \n"
     ]
    }
   ],
   "source": [
    "for val in got_data:\n",
    "    print(f\" {val} + \")"
   ]
  },
  {
   "cell_type": "code",
   "execution_count": 525,
   "id": "cf659b1b",
   "metadata": {
    "scrolled": false
   },
   "outputs": [
    {
     "name": "stdout",
     "output_type": "stream",
     "text": [
      "Optimization terminated successfully.\n",
      "         Current function value: 0.484594\n",
      "         Iterations 6\n"
     ]
    },
    {
     "data": {
      "text/html": [
       "<table class=\"simpletable\">\n",
       "<tr>\n",
       "        <td>Model:</td>              <td>Logit</td>      <td>Pseudo R-squared:</td>    <td>0.145</td>  \n",
       "</tr>\n",
       "<tr>\n",
       "  <td>Dependent Variable:</td>      <td>isAlive</td>           <td>AIC:</td>         <td>1713.0487</td>\n",
       "</tr>\n",
       "<tr>\n",
       "         <td>Date:</td>        <td>2021-12-05 17:26</td>       <td>BIC:</td>         <td>1756.7922</td>\n",
       "</tr>\n",
       "<tr>\n",
       "   <td>No. Observations:</td>        <td>1751</td>        <td>Log-Likelihood:</td>    <td>-848.52</td> \n",
       "</tr>\n",
       "<tr>\n",
       "       <td>Df Model:</td>              <td>7</td>            <td>LL-Null:</td>        <td>-992.53</td> \n",
       "</tr>\n",
       "<tr>\n",
       "     <td>Df Residuals:</td>          <td>1743</td>         <td>LLR p-value:</td>    <td>2.1845e-58</td>\n",
       "</tr>\n",
       "<tr>\n",
       "      <td>Converged:</td>           <td>1.0000</td>           <td>Scale:</td>         <td>1.0000</td>  \n",
       "</tr>\n",
       "<tr>\n",
       "    <td>No. Iterations:</td>        <td>6.0000</td>              <td></td>               <td></td>     \n",
       "</tr>\n",
       "</table>\n",
       "<table class=\"simpletable\">\n",
       "<tr>\n",
       "             <td></td>              <th>Coef.</th>  <th>Std.Err.</th>    <th>z</th>     <th>P>|z|</th> <th>[0.025</th>  <th>0.975]</th> \n",
       "</tr>\n",
       "<tr>\n",
       "  <th>Intercept</th>               <td>-1.6911</td>  <td>0.6906</td>  <td>-2.4486</td> <td>0.0143</td> <td>-3.0447</td> <td>-0.3375</td>\n",
       "</tr>\n",
       "<tr>\n",
       "  <th>S_No</th>                    <td>-0.0007</td>  <td>0.0001</td>  <td>-6.0112</td> <td>0.0000</td> <td>-0.0010</td> <td>-0.0005</td>\n",
       "</tr>\n",
       "<tr>\n",
       "  <th>book1_A_Game_Of_Thrones</th> <td>-0.4655</td>  <td>0.1556</td>  <td>-2.9909</td> <td>0.0028</td> <td>-0.7705</td> <td>-0.1604</td>\n",
       "</tr>\n",
       "<tr>\n",
       "  <th>book2_A_Clash_Of_Kings</th>  <td>-0.2749</td>  <td>0.1374</td>  <td>-2.0005</td> <td>0.0454</td> <td>-0.5442</td> <td>-0.0056</td>\n",
       "</tr>\n",
       "<tr>\n",
       "  <th>book4_A_Feast_For_Crows</th> <td>1.7786</td>   <td>0.1421</td>  <td>12.5204</td> <td>0.0000</td> <td>1.5002</td>  <td>2.0571</td> \n",
       "</tr>\n",
       "<tr>\n",
       "  <th>m_mother</th>                <td>2.2896</td>   <td>0.6698</td>  <td>3.4184</td>  <td>0.0006</td> <td>0.9769</td>  <td>3.6023</td> \n",
       "</tr>\n",
       "<tr>\n",
       "  <th>m_age</th>                   <td>0.7764</td>   <td>0.1508</td>  <td>5.1467</td>  <td>0.0000</td> <td>0.4807</td>  <td>1.0720</td> \n",
       "</tr>\n",
       "<tr>\n",
       "  <th>has_numDeadRelations</th>    <td>-0.6223</td>  <td>0.2331</td>  <td>-2.6695</td> <td>0.0076</td> <td>-1.0792</td> <td>-0.1654</td>\n",
       "</tr>\n",
       "</table>"
      ],
      "text/plain": [
       "<class 'statsmodels.iolib.summary2.Summary'>\n",
       "\"\"\"\n",
       "                            Results: Logit\n",
       "=======================================================================\n",
       "Model:                Logit              Pseudo R-squared:   0.145     \n",
       "Dependent Variable:   isAlive            AIC:                1713.0487 \n",
       "Date:                 2021-12-05 17:26   BIC:                1756.7922 \n",
       "No. Observations:     1751               Log-Likelihood:     -848.52   \n",
       "Df Model:             7                  LL-Null:            -992.53   \n",
       "Df Residuals:         1743               LLR p-value:        2.1845e-58\n",
       "Converged:            1.0000             Scale:              1.0000    \n",
       "No. Iterations:       6.0000                                           \n",
       "-----------------------------------------------------------------------\n",
       "                         Coef.  Std.Err.    z    P>|z|   [0.025  0.975]\n",
       "-----------------------------------------------------------------------\n",
       "Intercept               -1.6911   0.6906 -2.4486 0.0143 -3.0447 -0.3375\n",
       "S_No                    -0.0007   0.0001 -6.0112 0.0000 -0.0010 -0.0005\n",
       "book1_A_Game_Of_Thrones -0.4655   0.1556 -2.9909 0.0028 -0.7705 -0.1604\n",
       "book2_A_Clash_Of_Kings  -0.2749   0.1374 -2.0005 0.0454 -0.5442 -0.0056\n",
       "book4_A_Feast_For_Crows  1.7786   0.1421 12.5204 0.0000  1.5002  2.0571\n",
       "m_mother                 2.2896   0.6698  3.4184 0.0006  0.9769  3.6023\n",
       "m_age                    0.7764   0.1508  5.1467 0.0000  0.4807  1.0720\n",
       "has_numDeadRelations    -0.6223   0.2331 -2.6695 0.0076 -1.0792 -0.1654\n",
       "=======================================================================\n",
       "\n",
       "\"\"\""
      ]
     },
     "execution_count": 525,
     "metadata": {},
     "output_type": "execute_result"
    }
   ],
   "source": [
    "# instantiating a logistic regression model object\n",
    "logistic_small = smf.logit(formula   = \"\"\"isAlive ~  S_No+ \n",
    "book1_A_Game_Of_Thrones + \n",
    "book2_A_Clash_Of_Kings +\n",
    " book4_A_Feast_For_Crows +    \n",
    " m_mother +  \n",
    " m_age + \n",
    " has_numDeadRelations \"\"\",\n",
    "                           data = got_train)\n",
    "\n",
    "\n",
    "# FITTING the model object\n",
    "results_logistic = logistic_small.fit()\n",
    "\n",
    "\n",
    "# checking the results SUMMARY\n",
    "results_logistic.summary2() # summary2() has AIC and BIC"
   ]
  },
  {
   "cell_type": "code",
   "execution_count": 526,
   "id": "945eb50f",
   "metadata": {},
   "outputs": [
    {
     "name": "stdout",
     "output_type": "stream",
     "text": [
      " 'S_No', \n",
      " 'name', \n",
      " 'title', \n",
      " 'culture', \n",
      " 'dateOfBirth', \n",
      " 'mother', \n",
      " 'father', \n",
      " 'heir', \n",
      " 'house', \n",
      " 'spouse', \n",
      " 'book1_A_Game_Of_Thrones', \n",
      " 'book2_A_Clash_Of_Kings', \n",
      " 'book3_A_Storm_Of_Swords', \n",
      " 'book4_A_Feast_For_Crows', \n",
      " 'book5_A_Dance_with_Dragons', \n",
      " 'isAliveMother', \n",
      " 'isAliveFather', \n",
      " 'isAliveHeir', \n",
      " 'isAliveSpouse', \n",
      " 'isMarried', \n",
      " 'isNoble', \n",
      " 'age', \n",
      " 'numDeadRelations', \n",
      " 'popularity', \n",
      " 'm_title', \n",
      " 'm_culture', \n",
      " 'm_dateOfBirth', \n",
      " 'm_mother', \n",
      " 'm_father', \n",
      " 'm_heir', \n",
      " 'm_house', \n",
      " 'm_spouse', \n",
      " 'm_isAliveMother', \n",
      " 'm_isAliveFather', \n",
      " 'm_isAliveHeir', \n",
      " 'm_isAliveSpouse', \n",
      " 'm_age', \n",
      " 'has_numDeadRelations', \n"
     ]
    }
   ],
   "source": [
    "for val in got_data:\n",
    "    print(f\" '{val}', \")"
   ]
  },
  {
   "cell_type": "code",
   "execution_count": 527,
   "id": "f5f58e65",
   "metadata": {},
   "outputs": [
    {
     "name": "stdout",
     "output_type": "stream",
     "text": [
      "\n",
      "Training Data\n",
      "-------------\n",
      "X-side: (1751, 6)\n",
      "y-side: (1751,)\n",
      "\n",
      "\n",
      "Testing Data\n",
      "------------\n",
      "X-side: (195, 6)\n",
      "y-side: (195,)\n",
      "\n",
      "\n",
      "____________________________________________________________\n",
      "\n",
      "\n",
      "Response Variable Proportions (Training Set)\n",
      "--------------------------------------------\n",
      "1    0.75\n",
      "0    0.25\n",
      "Name: isAlive, dtype: float64\n",
      "\n",
      "\n",
      "\n",
      "Response Variable Proportions (Testing Set)\n",
      "--------------------------------------------\n",
      "1    0.74\n",
      "0    0.26\n",
      "Name: isAlive, dtype: float64\n",
      "\n"
     ]
    }
   ],
   "source": [
    "# prepared explanatory variable dataset by dropping unwanted variables \n",
    "got_explanatory = got.drop(['isAlive', \n",
    " 'name', \n",
    " 'title', \n",
    " 'culture', \n",
    " 'dateOfBirth', \n",
    " 'mother', \n",
    " 'father', \n",
    " 'heir', \n",
    " 'house', \n",
    " 'spouse', \n",
    " 'book2_A_Clash_Of_Kings',\n",
    " 'book3_A_Storm_Of_Swords',  \n",
    " 'book5_A_Dance_with_Dragons', \n",
    " 'isAliveMother', \n",
    " 'isAliveFather', \n",
    " 'isAliveHeir', \n",
    " 'isAliveSpouse', \n",
    " 'isMarried', \n",
    " 'isNoble', \n",
    " 'age', \n",
    " 'numDeadRelations', \n",
    " 'popularity', \n",
    " 'm_title', \n",
    " 'm_culture', \n",
    " 'm_dateOfBirth', \n",
    " 'm_father', \n",
    " 'm_heir', \n",
    " 'm_house', \n",
    " 'm_spouse', \n",
    " 'm_isAliveMother', \n",
    " 'm_isAliveFather', \n",
    " 'm_isAliveHeir', \n",
    " 'm_isAliveSpouse'], axis = 1)\n",
    "\n",
    "# prepare response variable dataset\n",
    "\n",
    "# prepare training and testing sets\n",
    "X_train, X_test, y_train, y_test = train_test_split(\n",
    "            got_explanatory,\n",
    "            got_target,\n",
    "            test_size    = 0.10,\n",
    "            random_state = 219,\n",
    "            stratify     = got_target)\n",
    "\n",
    "# merging training data for statsmodels\n",
    "got_train = pd.concat([X_train, y_train], axis = 1)\n",
    "\n",
    "# checking the form of the datasets\n",
    "print(f\"\"\"\n",
    "Training Data\n",
    "-------------\n",
    "X-side: {X_train.shape}\n",
    "y-side: {y_train.shape}\n",
    "\n",
    "\n",
    "Testing Data\n",
    "------------\n",
    "X-side: {X_test.shape}\n",
    "y-side: {y_test.shape}\n",
    "\"\"\")\n",
    "print(\"\"\"\n",
    "____________________________________________________________\"\"\"\n",
    "      )\n",
    "# checking proportions of training and testing sets\n",
    "print(f\"\"\"\n",
    "\n",
    "Response Variable Proportions (Training Set)\n",
    "--------------------------------------------\n",
    "{y_train.value_counts(normalize = True).round(decimals = 2)}\n",
    "\n",
    "\n",
    "\n",
    "Response Variable Proportions (Testing Set)\n",
    "--------------------------------------------\n",
    "{y_test.value_counts(normalize = True).round(decimals = 2)}\n",
    "\"\"\")\n"
   ]
  },
  {
   "cell_type": "markdown",
   "id": "d4a3c417",
   "metadata": {},
   "source": [
    "# Logistic Regression Model in scikit-learn"
   ]
  },
  {
   "cell_type": "code",
   "execution_count": 528,
   "id": "ec34fdff",
   "metadata": {},
   "outputs": [],
   "source": [
    "# creating a dictionary to store candidate models\n",
    "\n",
    "candidate_dict = {\n",
    "\n",
    " # full model\n",
    " 'logit_full'   : ['isAlive','S_No', 'name', 'title', 'culture', 'dateOfBirth', 'mother', \n",
    "                   'father', 'heir', 'house', 'spouse', 'book1_A_Game_Of_Thrones', \n",
    "                   'book2_A_Clash_Of_Kings', 'book3_A_Storm_Of_Swords', 'book4_A_Feast_For_Crows', \n",
    "                   'book5_A_Dance_with_Dragons', 'isMarried','isNoble', 'age', 'numDeadRelations', \n",
    "                   'popularity', 'm_title', 'm_culture','m_dateOfBirth','m_mother','m_father', \n",
    "                   'm_heir', 'm_house', 'm_spouse', 'm_age', 'has_numDeadRelations' ],\n",
    " \n",
    "\n",
    " # significant variables only (set 1)\n",
    " 'logit_sig'    : ['S_No', 'book1_A_Game_Of_Thrones','book2_A_Clash_Of_Kings',\n",
    "                   'book4_A_Feast_For_Crows', 'm_mother', 'm_age', \n",
    "                   'has_numDeadRelations' ],\n",
    "    \n",
    "    \n",
    " # significant variables only (set 2)\n",
    " 'logit_sig_2'  : ['S_No', 'book1_A_Game_Of_Thrones','book2_A_Clash_Of_Kings',\n",
    "                   'book4_A_Feast_For_Crows', 'm_isAliveMother', 'm_age', \n",
    "                   'has_numDeadRelations']\n",
    "\n",
    "}"
   ]
  },
  {
   "cell_type": "markdown",
   "id": "6d6ab8d5",
   "metadata": {},
   "source": [
    "I chose this first model of significant variables because their P-values were less than 0.05 and their correlation with the Y variable was strong. \n",
    "\n",
    "Moreover, for my second model of significant variables, I chose to replace the variable 'm_mother' with the variable 'm_isAliveMother' because their correlation with the variable Y and their P-value were identical to those of m_mother. Thus the two variables are linked. "
   ]
  },
  {
   "cell_type": "code",
   "execution_count": 529,
   "id": "88c86f21",
   "metadata": {
    "scrolled": false
   },
   "outputs": [
    {
     "name": "stdout",
     "output_type": "stream",
     "text": [
      "\n",
      "/--------------------------\\\n",
      "|Explanatory Variable Sets |\n",
      "\\--------------------------/\n",
      "\n",
      "Full Model:\n",
      "-----------\n",
      "['isAlive', 'S_No', 'name', 'title', 'culture', 'dateOfBirth', 'mother', 'father', 'heir', 'house', 'spouse', 'book1_A_Game_Of_Thrones', 'book2_A_Clash_Of_Kings', 'book3_A_Storm_Of_Swords', 'book4_A_Feast_For_Crows', 'book5_A_Dance_with_Dragons', 'isMarried', 'isNoble', 'age', 'numDeadRelations', 'popularity', 'm_title', 'm_culture', 'm_dateOfBirth', 'm_mother', 'm_father', 'm_heir', 'm_house', 'm_spouse', 'm_age', 'has_numDeadRelations']\n",
      "\n",
      "\n",
      "First Significant p-value Model:\n",
      "--------------------------------\n",
      "['S_No', 'book1_A_Game_Of_Thrones', 'book2_A_Clash_Of_Kings', 'book4_A_Feast_For_Crows', 'm_mother', 'm_age', 'has_numDeadRelations']\n",
      "\n",
      "\n",
      "Second Significant p-value Model:\n",
      "---------------------------------\n",
      "['S_No', 'book1_A_Game_Of_Thrones', 'book2_A_Clash_Of_Kings', 'book4_A_Feast_For_Crows', 'm_isAliveMother', 'm_age', 'has_numDeadRelations']\n",
      "\n"
     ]
    }
   ],
   "source": [
    "# printing candidate variable sets\n",
    "print(f\"\"\"\n",
    "/--------------------------\\\\\n",
    "|Explanatory Variable Sets |\n",
    "\\\\--------------------------/\n",
    "\n",
    "Full Model:\n",
    "-----------\n",
    "{candidate_dict['logit_full']}\n",
    "\n",
    "\n",
    "First Significant p-value Model:\n",
    "--------------------------------\n",
    "{candidate_dict['logit_sig']}\n",
    "\n",
    "\n",
    "Second Significant p-value Model:\n",
    "---------------------------------\n",
    "{candidate_dict['logit_sig_2']}\n",
    "\"\"\")"
   ]
  },
  {
   "cell_type": "code",
   "execution_count": 530,
   "id": "6d324d3a",
   "metadata": {},
   "outputs": [
    {
     "name": "stdout",
     "output_type": "stream",
     "text": [
      "Training ACCURACY LOGREG: 0.7761\n",
      "Testing  ACCURACY LOGREG: 0.8615\n"
     ]
    }
   ],
   "source": [
    "# train/test split with the full model\n",
    "got_data   =  got.loc[ : , candidate_dict['logit_sig']]\n",
    "got_target =  got.loc[ : , 'isAlive']\n",
    "\n",
    "\n",
    "# This is the exact code we were using before\n",
    "x_train, x_test, y_train, y_test = train_test_split(\n",
    "            got_data,\n",
    "            got_target,\n",
    "            test_size    = 0.10,\n",
    "            random_state = 219,\n",
    "            stratify     = got_target)\n",
    "\n",
    "\n",
    "# INSTANTIATING a logistic regression model\n",
    "logreg = LogisticRegression(solver = 'lbfgs',\n",
    "                            C = 1,\n",
    "                            random_state = 219)\n",
    "\n",
    "\n",
    "# FITTING the training data\n",
    "logreg_fit = logreg.fit(x_train, y_train)\n",
    "\n",
    "\n",
    "# PREDICTING based on the testing set\n",
    "logreg_pred = logreg_fit.predict(x_test)\n",
    "\n",
    "\n",
    "# SCORING the results\n",
    "print('Training ACCURACY LOGREG:', logreg_fit.score(x_train, y_train).round(4))\n",
    "print('Testing  ACCURACY LOGREG:', logreg_fit.score(x_test, y_test).round(4))\n",
    "\n",
    "# saving scoring data for future use\n",
    "logreg_train_score = logreg_fit.score(x_train, y_train).round(4) # accuracy\n",
    "logreg_test_score  = logreg_fit.score(x_test, y_test).round(4) # accuracy"
   ]
  },
  {
   "cell_type": "code",
   "execution_count": 531,
   "id": "8798c33f",
   "metadata": {},
   "outputs": [
    {
     "name": "stdout",
     "output_type": "stream",
     "text": [
      "AUC Score ACCURACY LOGREG: 0.7628\n"
     ]
    }
   ],
   "source": [
    "# area under the roc curve (auc)\n",
    "print('AUC Score ACCURACY LOGREG:',roc_auc_score(y_true  = y_test,\n",
    "                    y_score = logreg_pred).round(decimals = 4))\n",
    "\n",
    "\n",
    "# saving AUC score for future use\n",
    "logreg_auc_score = roc_auc_score(y_true  = y_test,\n",
    "                                 y_score = logreg_pred).round(decimals = 4)"
   ]
  },
  {
   "cell_type": "code",
   "execution_count": 532,
   "id": "3a3e0095",
   "metadata": {},
   "outputs": [
    {
     "name": "stdout",
     "output_type": "stream",
     "text": [
      "\n",
      "True Negatives : 28\n",
      "False Positives: 22\n",
      "False Negatives: 5\n",
      "True Positives : 140\n",
      "\n"
     ]
    }
   ],
   "source": [
    "# unpacking the confusion matrix\n",
    "logreg_tn, \\\n",
    "logreg_fp, \\\n",
    "logreg_fn, \\\n",
    "logreg_tp = confusion_matrix(y_true = y_test, y_pred = logreg_pred).ravel()\n",
    "\n",
    "\n",
    "# printing each result one-by-one\n",
    "print(f\"\"\"\n",
    "True Negatives : {logreg_tn}\n",
    "False Positives: {logreg_fp}\n",
    "False Negatives: {logreg_fn}\n",
    "True Positives : {logreg_tp}\n",
    "\"\"\")"
   ]
  },
  {
   "cell_type": "code",
   "execution_count": 533,
   "id": "5af3524b",
   "metadata": {},
   "outputs": [
    {
     "name": "stdout",
     "output_type": "stream",
     "text": [
      "('intercept', 0.04)\n",
      "('S_No', -0.0)\n",
      "('book1_A_Game_Of_Thrones', -0.41)\n",
      "('book2_A_Clash_Of_Kings', -0.24)\n",
      "('book4_A_Feast_For_Crows', 1.76)\n",
      "('m_mother', 0.58)\n",
      "('m_age', 0.69)\n",
      "('has_numDeadRelations', -0.89)\n"
     ]
    }
   ],
   "source": [
    "# zipping each feature name to its coefficient\n",
    "logreg_model_values = zip(got[candidate_dict['logit_sig']].columns,\n",
    "                          logreg_fit.coef_.ravel().round(decimals = 2))\n",
    "\n",
    "\n",
    "# setting up a placeholder list to store model features\n",
    "logreg_model_lst = [('intercept', logreg_fit.intercept_[0].round(decimals = 2))]\n",
    "\n",
    "\n",
    "# printing out each feature-coefficient pair one by one\n",
    "for val in logreg_model_values:\n",
    "    logreg_model_lst.append(val)\n",
    "    \n",
    "\n",
    "# checking the results\n",
    "for pair in logreg_model_lst:\n",
    "    print(pair)"
   ]
  },
  {
   "cell_type": "markdown",
   "id": "f6c2e193",
   "metadata": {},
   "source": [
    "# Classification Trees (CART Models)"
   ]
  },
  {
   "cell_type": "markdown",
   "id": "d78a60c8",
   "metadata": {},
   "source": [
    "## Full Tree"
   ]
  },
  {
   "cell_type": "markdown",
   "id": "2b03efe8",
   "metadata": {},
   "source": [
    "This code has been retrived from Script 7 of Machine Learning"
   ]
  },
  {
   "cell_type": "code",
   "execution_count": 534,
   "id": "183c6edb",
   "metadata": {},
   "outputs": [],
   "source": [
    "# plot_feature_importances\n",
    "\n",
    "def plot_feature_importances(model, train, export = False):\n",
    "    \"\"\"\n",
    "    Plots the importance of features from a CART model.\n",
    "    \n",
    "    PARAMETERS\n",
    "    ----------\n",
    "    model  : CART model\n",
    "    train  : explanatory variable training data\n",
    "    export : whether or not to export as a .png image, default False\n",
    "    \"\"\"\n",
    "    \n",
    "    # declaring the number\n",
    "    n_features = x_train.shape[1]\n",
    "    \n",
    "    # setting plot window\n",
    "    fig, ax = plt.subplots(figsize=(12,9))\n",
    "    \n",
    "    plt.barh(range(n_features), model.feature_importances_, align='center')\n",
    "    plt.yticks(np.arange(n_features), train.columns)\n",
    "    plt.xlabel(\"Feature importance\")\n",
    "    plt.ylabel(\"Feature\")\n",
    "    \n",
    "    if export == True:\n",
    "        plt.savefig('Tree_Leaf_50_Feature_Importance.png')"
   ]
  },
  {
   "cell_type": "code",
   "execution_count": 535,
   "id": "dd53c9e5",
   "metadata": {},
   "outputs": [
    {
     "name": "stdout",
     "output_type": "stream",
     "text": [
      "Full Tree Training ACCURACY: 1.0\n",
      "Full Tree Testing ACCURACY : 0.7077\n",
      "Full Tree AUC Score: 0.6659\n"
     ]
    }
   ],
   "source": [
    "# INSTANTIATING a classification tree object\n",
    "full_tree = DecisionTreeClassifier()\n",
    "\n",
    "\n",
    "# FITTING the training data\n",
    "full_tree_fit = full_tree.fit(x_train, y_train)\n",
    "\n",
    "\n",
    "# PREDICTING on new data\n",
    "full_tree_pred = full_tree_fit.predict(x_test)\n",
    "\n",
    "\n",
    "# SCORING the model\n",
    "print('Full Tree Training ACCURACY:', full_tree_fit.score(x_train,\n",
    "                                                     y_train).round(4))\n",
    "\n",
    "print('Full Tree Testing ACCURACY :', full_tree_fit.score(x_test,\n",
    "                                                     y_test).round(4))\n",
    "\n",
    "print('Full Tree AUC Score:', roc_auc_score(y_true  = y_test,\n",
    "                                            y_score = full_tree_pred).round(4))\n",
    "\n",
    "\n",
    "# saving scoring data for future use\n",
    "full_tree_train_score = full_tree_fit.score(x_train, y_train).round(4) # accuracy\n",
    "full_tree_test_score  = full_tree_fit.score(x_test, y_test).round(4)   # accuracy\n",
    "\n",
    "\n",
    "# saving AUC\n",
    "full_tree_auc_score   = roc_auc_score(y_true  = y_test,\n",
    "                                      y_score = full_tree_pred).round(4) # auc"
   ]
  },
  {
   "cell_type": "code",
   "execution_count": 536,
   "id": "8c0ce2f9",
   "metadata": {
    "scrolled": true
   },
   "outputs": [
    {
     "name": "stdout",
     "output_type": "stream",
     "text": [
      "\n",
      "True Negatives : 29\n",
      "False Positives: 21\n",
      "False Negatives: 36\n",
      "True Positives : 109\n",
      "\n"
     ]
    }
   ],
   "source": [
    "# unpacking the confusion matrix\n",
    "full_tree_tn, \\\n",
    "full_tree_fp, \\\n",
    "full_tree_fn, \\\n",
    "full_tree_tp = confusion_matrix(y_true = y_test, y_pred = full_tree_pred).ravel()\n",
    "\n",
    "\n",
    "# printing each result one-by-one\n",
    "print(f\"\"\"\n",
    "True Negatives : {full_tree_tn}\n",
    "False Positives: {full_tree_fp}\n",
    "False Negatives: {full_tree_fn}\n",
    "True Positives : {full_tree_tp}\n",
    "\"\"\")"
   ]
  },
  {
   "cell_type": "markdown",
   "id": "a63024c3",
   "metadata": {},
   "source": [
    "## Pruned Tree"
   ]
  },
  {
   "cell_type": "markdown",
   "id": "f1cc5118",
   "metadata": {},
   "source": [
    "Since the Full Tree is a difficult method to read because of the multitudes of branches and leaves, I had to prune the model to facilitate the division of the data by the model.\n",
    "\n",
    "According to your rules, the max_depth should be less than or equal to 8 so I used the max_depth and the min_samples_leaf that we chose in class. It means that I develop a tree with a maximum depth of 4 and a minimum number of samples per leaf of 25."
   ]
  },
  {
   "cell_type": "code",
   "execution_count": 537,
   "id": "593e0e9f",
   "metadata": {},
   "outputs": [
    {
     "name": "stdout",
     "output_type": "stream",
     "text": [
      "Training ACCURACY PTree: 0.7875\n",
      "Testing  ACCURACY PTree: 0.8615\n",
      "AUC Score PTree        : 0.7628\n"
     ]
    }
   ],
   "source": [
    "# INSTANTIATING a classification tree object\n",
    "tree_pruned = DecisionTreeClassifier(max_depth = 4,\n",
    "                                    min_samples_leaf = 25,\n",
    "                                    random_state = 219)\n",
    "\n",
    "\n",
    "# FITTING the training data\n",
    "tree_pruned_fit = tree_pruned.fit(x_train, y_train)\n",
    "\n",
    "\n",
    "# PREDICTING on new data\n",
    "tree_pruned_pred = tree_pruned_fit.predict(x_test)\n",
    "\n",
    "\n",
    "# SCORING the model\n",
    "print('Training ACCURACY PTree:', tree_pruned_fit.score(x_train,y_train).round(4))\n",
    "print('Testing  ACCURACY PTree:', tree_pruned_fit.score(x_test,y_test).round(4))\n",
    "print('AUC Score PTree        :', roc_auc_score(y_true  = y_test,y_score = tree_pruned_pred).round(4))\n",
    "\n",
    "\n",
    "# saving scoring data for future use\n",
    "pruned_tree_train_score = tree_pruned_fit.score(x_train,y_train).round(4) # accuracy\n",
    "pruned_tree_test_score  = tree_pruned_fit.score(x_test,y_test).round(4) # accuracy\n",
    "\n",
    "\n",
    "# saving auc score\n",
    "pruned_tree_auc_score   = roc_auc_score(y_true  = y_test,\n",
    "                                        y_score = tree_pruned_pred).round(4) # auc"
   ]
  },
  {
   "cell_type": "code",
   "execution_count": 538,
   "id": "21c0a1ad",
   "metadata": {},
   "outputs": [
    {
     "name": "stdout",
     "output_type": "stream",
     "text": [
      "\n",
      "True Negatives : 28\n",
      "False Positives: 22\n",
      "False Negatives: 5\n",
      "True Positives : 140\n",
      "\n"
     ]
    }
   ],
   "source": [
    "# unpacking the confusion matrix\n",
    "pruned_tree_tn, \\\n",
    "pruned_tree_fp, \\\n",
    "pruned_tree_fn, \\\n",
    "pruned_tree_tp = confusion_matrix(y_true = y_test, y_pred = tree_pruned_pred).ravel()\n",
    "\n",
    "\n",
    "# printing each result one-by-one\n",
    "print(f\"\"\"\n",
    "True Negatives : {pruned_tree_tn}\n",
    "False Positives: {pruned_tree_fp}\n",
    "False Negatives: {pruned_tree_fn}\n",
    "True Positives : {pruned_tree_tp}\n",
    "\"\"\")"
   ]
  },
  {
   "cell_type": "code",
   "execution_count": 539,
   "id": "90d50138",
   "metadata": {},
   "outputs": [
    {
     "data": {
      "image/png": "[encoded data removed]",
      "text/plain": [
       "<Figure size 1440x720 with 1 Axes>"
      ]
     },
     "metadata": {
      "needs_background": "light"
     },
     "output_type": "display_data"
    }
   ],
   "source": [
    "# setting figure size\n",
    "plt.figure(figsize=(20, 10)) # adjusting to better fit the visual\n",
    "\n",
    "\n",
    "# developing a plotted tree\n",
    "plot_tree(decision_tree = tree_pruned_fit, # changing to pruned_tree_fit\n",
    "          feature_names = got.columns,\n",
    "          filled        = True, \n",
    "          rounded       = True, \n",
    "          fontsize      = 14)\n",
    "\n",
    "\n",
    "# rendering the plot\n",
    "plt.show()"
   ]
  },
  {
   "cell_type": "markdown",
   "id": "5f032a47",
   "metadata": {},
   "source": [
    "# Classification Modeling with KNN"
   ]
  },
  {
   "cell_type": "markdown",
   "id": "62645a89",
   "metadata": {},
   "source": [
    "This code has been retrieved from Script 7 of Machine Learning"
   ]
  },
  {
   "cell_type": "code",
   "execution_count": 540,
   "id": "fcda1aaf",
   "metadata": {},
   "outputs": [],
   "source": [
    "# optimal_neighbors\n",
    "\n",
    "def optimal_neighbors(x_data,\n",
    "                      y_data,\n",
    "                      standardize = True,\n",
    "                      pct_test=0.10,\n",
    "                      seed=219,\n",
    "                      response_type='reg',\n",
    "                      max_neighbors=20,\n",
    "                      show_viz=True):\n",
    "    \"\"\"\n",
    "Exhaustively compute training and testing results for KNN across\n",
    "[1, max_neighbors]. Outputs the maximum test score and (by default) a\n",
    "visualization of the results.\n",
    "PARAMETERS\n",
    "----------\n",
    "x_data        : explanatory variable data\n",
    "y_data        : response variable\n",
    "standardize   : whether or not to standardize the x data, default True\n",
    "pct_test      : test size for training and validation from (0,1), default 0.25\n",
    "seed          : random seed to be used in algorithm, default 219\n",
    "response_type : type of neighbors algorithm to use, default 'reg'\n",
    "    Use 'reg' for regression (KNeighborsRegressor)\n",
    "    Use 'class' for classification (KNeighborsClassifier)\n",
    "max_neighbors : maximum number of neighbors in exhaustive search, default 20\n",
    "show_viz      : display or surpress k-neigbors visualization, default True\n",
    "\"\"\"    \n",
    "    \n",
    "    \n",
    "    if standardize == True:\n",
    "        # optionally standardizing x_data\n",
    "        scaler             = StandardScaler()\n",
    "        scaler.fit(x_data)\n",
    "        x_scaled           = scaler.transform(x_data)\n",
    "        x_scaled_df        = pd.DataFrame(x_scaled)\n",
    "        x_data             = x_scaled_df\n",
    "\n",
    "\n",
    "\n",
    "    # train-test split\n",
    "    x_train, x_test, y_train, y_test = train_test_split(x_data,\n",
    "                                                        y_data,\n",
    "                                                        test_size = pct_test,\n",
    "                                                        random_state = seed)\n",
    "\n",
    "\n",
    "    # creating lists for training set accuracy and test set accuracy\n",
    "    training_accuracy = []\n",
    "    test_accuracy = []\n",
    "    \n",
    "    \n",
    "    # setting neighbor range\n",
    "    neighbors_settings = range(1, max_neighbors + 1)\n",
    "\n",
    "\n",
    "    for n_neighbors in neighbors_settings:\n",
    "        # building the model based on response variable type\n",
    "        if response_type == 'reg':\n",
    "            clf = KNeighborsRegressor(n_neighbors = n_neighbors)\n",
    "            clf.fit(x_train, y_train)\n",
    "            \n",
    "        elif response_type == 'class':\n",
    "            clf = KNeighborsClassifier(n_neighbors = n_neighbors)\n",
    "            clf.fit(x_train, y_train)            \n",
    "            \n",
    "        else:\n",
    "            print(\"Error: response_type must be 'reg' or 'class'\")\n",
    "        \n",
    "        \n",
    "        # recording the training set accuracy\n",
    "        training_accuracy.append(clf.score(x_train, y_train))\n",
    "    \n",
    "        # recording the generalization accuracy\n",
    "        test_accuracy.append(clf.score(x_test, y_test))\n",
    "\n",
    "\n",
    "    # optionally displaying visualization\n",
    "    if show_viz == True:\n",
    "        # plotting the visualization\n",
    "        fig, ax = plt.subplots(figsize=(12,8))\n",
    "        plt.plot(neighbors_settings, training_accuracy, label = \"training accuracy\")\n",
    "        plt.plot(neighbors_settings, test_accuracy, label = \"test accuracy\")\n",
    "        plt.ylabel(\"Accuracy\")\n",
    "        plt.xlabel(\"n_neighbors\")\n",
    "        plt.legend()\n",
    "        plt.show()\n",
    "    \n",
    "    \n",
    "    # returning optimal number of neighbors\n",
    "    print(f\"The optimal number of neighbors is: {test_accuracy.index(max(test_accuracy))+1}\")\n",
    "    return test_accuracy.index(max(test_accuracy))+1"
   ]
  },
  {
   "cell_type": "code",
   "execution_count": 541,
   "id": "6296cf3f",
   "metadata": {},
   "outputs": [
    {
     "name": "stdout",
     "output_type": "stream",
     "text": [
      "Training ACCURACY KNN: 0.7984\n",
      "Testing  ACCURACY KNN: 0.8718\n",
      "AUC Score KNN        : 0.8155\n"
     ]
    }
   ],
   "source": [
    "# INSTANTIATING StandardScaler()\n",
    "scaler = StandardScaler()\n",
    "\n",
    "\n",
    "# FITTING the data\n",
    "scaler.fit(got_data)\n",
    "\n",
    "\n",
    "# TRANSFORMING the data\n",
    "x_scaled     = scaler.transform(got_data)\n",
    "\n",
    "\n",
    "# converting to a DataFrame\n",
    "x_scaled_df  = pd.DataFrame(x_scaled) \n",
    "\n",
    "\n",
    "# train-test split with the scaled data\n",
    "x_train_scaled, x_test_scaled, y_train_scaled, y_test_scaled = train_test_split(\n",
    "            x_scaled_df,\n",
    "            got_target,\n",
    "            random_state = 219,\n",
    "            test_size    = 0.10,\n",
    "            stratify     = got_target)\n",
    "\n",
    "\n",
    "# INSTANTIATING a KNN classification model with optimal neighbors\n",
    "knn_opt = KNeighborsClassifier(n_neighbors = opt_neighbors)\n",
    "\n",
    "\n",
    "# FITTING the training data\n",
    "knn_fit = knn_opt.fit(x_train_scaled, y_train_scaled)\n",
    "\n",
    "\n",
    "# PREDICTING based on the testing set\n",
    "knn_pred = knn_fit.predict(x_test_scaled)\n",
    "\n",
    "\n",
    "# SCORING the results\n",
    "print('Training ACCURACY KNN:', knn_fit.score(x_train_scaled, y_train_scaled).round(4))\n",
    "print('Testing  ACCURACY KNN:', knn_fit.score(x_test_scaled, y_test_scaled).round(4))\n",
    "print('AUC Score KNN        :', roc_auc_score(y_true  = y_test,\n",
    "                                          y_score = knn_pred).round(4))\n",
    "\n",
    "\n",
    "# saving scoring data\n",
    "knn_train_score = knn_fit.score(x_train_scaled, y_train_scaled).round(4)\n",
    "knn_test_score  = knn_fit.score(x_test_scaled, y_test_scaled).round(4)\n",
    "\n",
    "\n",
    "# saving AUC score\n",
    "knn_auc_score   = roc_auc_score(y_true  = y_test,\n",
    "                                          y_score = knn_pred).round(4)"
   ]
  },
  {
   "cell_type": "code",
   "execution_count": 542,
   "id": "5e711bcd",
   "metadata": {},
   "outputs": [
    {
     "name": "stdout",
     "output_type": "stream",
     "text": [
      "\n",
      "True Negatives : 35\n",
      "False Positives: 15\n",
      "False Negatives: 10\n",
      "True Positives : 135\n",
      "\n"
     ]
    }
   ],
   "source": [
    "# unpacking the confusion matrix\n",
    "knn_tree_tn, \\\n",
    "knn_tree_fp, \\\n",
    "knn_tree_fn, \\\n",
    "knn_tree_tp = confusion_matrix(y_true = y_test, y_pred = knn_pred).ravel()\n",
    "\n",
    "\n",
    "# printing each result one-by-one\n",
    "print(f\"\"\"\n",
    "True Negatives : {knn_tree_tn}\n",
    "False Positives: {knn_tree_fp}\n",
    "False Negatives: {knn_tree_fn}\n",
    "True Positives : {knn_tree_tp}\n",
    "\"\"\")"
   ]
  },
  {
   "cell_type": "markdown",
   "id": "bbb7bb2f",
   "metadata": {},
   "source": [
    "# Random Forest Classifier"
   ]
  },
  {
   "cell_type": "markdown",
   "id": "60df51c0",
   "metadata": {},
   "source": [
    "## RandomForest "
   ]
  },
  {
   "cell_type": "code",
   "execution_count": 543,
   "id": "fc838f66",
   "metadata": {},
   "outputs": [],
   "source": [
    "# new tools\n",
    "from sklearn.ensemble import RandomForestClassifier     # random forest\n",
    "from sklearn.ensemble import GradientBoostingClassifier # gbm\n"
   ]
  },
  {
   "cell_type": "code",
   "execution_count": 544,
   "id": "514a4587",
   "metadata": {},
   "outputs": [],
   "source": [
    "# INSTANTIATING a random forest model with default values\n",
    "rf_default = RandomForestClassifier(n_estimators     = 100,\n",
    "                                    criterion        = 'gini',\n",
    "                                    max_depth        = 4,\n",
    "                                    min_samples_leaf = 1,\n",
    "                                    bootstrap        = True,\n",
    "                                    warm_start       = False,\n",
    "                                    random_state     = 219)"
   ]
  },
  {
   "cell_type": "code",
   "execution_count": 545,
   "id": "86ae661f",
   "metadata": {},
   "outputs": [
    {
     "name": "stdout",
     "output_type": "stream",
     "text": [
      "Training ACCURACY RF: 0.7887\n",
      "Testing  ACCURACY RF: 0.8308\n",
      "AUC Score RF        : 0.67\n"
     ]
    }
   ],
   "source": [
    "# FITTING the training data\n",
    "rf_default_fit = rf_default.fit(x_train, y_train)\n",
    "\n",
    "\n",
    "# PREDICTING based on the testing set\n",
    "rf_default_fit_pred = rf_default_fit.predict(x_test)\n",
    "\n",
    "\n",
    "# SCORING the results\n",
    "print('Training ACCURACY RF:', rf_default_fit.score(x_train, y_train).round(4))\n",
    "print('Testing  ACCURACY RF:', rf_default_fit.score(x_test, y_test).round(4))\n",
    "\n",
    "\n",
    "# saving AUC score\n",
    "print('AUC Score RF        :', roc_auc_score(y_true  = y_test,\n",
    "                                          y_score = rf_default_fit_pred).round(4))\n",
    "\n",
    "# saving scoring data\n",
    "rf_default_train_score = rf_default_fit.score(x_train, y_train).round(4)\n",
    "rf_default_test_score  = rf_default_fit.score(x_test, y_test).round(4)\n",
    "\n",
    "\n",
    "# saving AUC score\n",
    "rf_default_auc_score   = roc_auc_score(y_true  = y_test,\n",
    "                                          y_score = rf_default_fit_pred).round(4)"
   ]
  },
  {
   "cell_type": "code",
   "execution_count": 546,
   "id": "0799e6f5",
   "metadata": {
    "scrolled": true
   },
   "outputs": [
    {
     "name": "stdout",
     "output_type": "stream",
     "text": [
      "\n",
      "True Negatives : 26\n",
      "False Positives: 24\n",
      "False Negatives: 0\n",
      "True Positives : 145\n",
      "\n"
     ]
    }
   ],
   "source": [
    "# unpacking the confusion matrix\n",
    "rf_default_tn, \\\n",
    "rf_default_fp, \\\n",
    "rf_default_fn, \\\n",
    "rf_default_tp = confusion_matrix(y_true = y_test, y_pred = rf_default_fit_pred).ravel()\n",
    "\n",
    "\n",
    "# printing each result one-by-one\n",
    "print(f\"\"\"\n",
    "True Negatives : {tuned_rf_tn}\n",
    "False Positives: {tuned_rf_fp}\n",
    "False Negatives: {tuned_rf_fn}\n",
    "True Positives : {tuned_rf_tp}\n",
    "\"\"\")"
   ]
  },
  {
   "cell_type": "markdown",
   "id": "dd265640",
   "metadata": {},
   "source": [
    "## Tuned Forest "
   ]
  },
  {
   "cell_type": "markdown",
   "id": "b96e9128",
   "metadata": {},
   "source": [
    "After having executed a RandomForest model, I used RandomizedSearchCV to optimize my hyperparameters and have a new model: the Tuned Forest."
   ]
  },
  {
   "cell_type": "code",
   "execution_count": 558,
   "id": "8ccb06a0",
   "metadata": {},
   "outputs": [
    {
     "name": "stdout",
     "output_type": "stream",
     "text": [
      "Tuned Parameters  : {'warm_start': True, 'n_estimators': 100, 'min_samples_leaf': 21, 'criterion': 'gini', 'bootstrap': False}\n",
      "Tuned Training AUC: 0.5181\n"
     ]
    }
   ],
   "source": [
    "# FITTING the training data\n",
    "rf_default_fit = rf_default.fit(x_train, y_train)\n",
    "\n",
    "\n",
    "# PREDICTING based on the testing set\n",
    "rf_default_fit_pred = rf_default_fit.predict(x_test)\n",
    "\n",
    "\n",
    "# declaring a hyperparameter space\n",
    "estimator_range  = np.arange(100, 1100, 250)\n",
    "leaf_range       = np.arange(1, 31, 10)\n",
    "criterion_range  = ['gini', 'entropy']\n",
    "bootstrap_range  = [True, False]\n",
    "warm_start_range = [True, False]\n",
    "\n",
    "\n",
    "# creating a hyperparameter grid\n",
    "param_grid = {'n_estimators'     : estimator_range,\n",
    "              'min_samples_leaf' : leaf_range,\n",
    "              'criterion'        : criterion_range,\n",
    "              'bootstrap'        : bootstrap_range,\n",
    "              'warm_start'       : warm_start_range}\n",
    "\n",
    "\n",
    "# INSTANTIATING the model object without hyperparameters\n",
    "forest_grid = RandomForestClassifier(random_state = 219)\n",
    "\n",
    "\n",
    "# GridSearchCV object\n",
    "forest_cv = RandomizedSearchCV(estimator           = forest_grid,\n",
    "                               param_distributions = param_grid,\n",
    "                               cv         = 3,\n",
    "                               n_iter     = 96,\n",
    "                               scoring    = make_scorer(roc_auc_score,\n",
    "                                            needs_threshold = False))\n",
    "\n",
    "\n",
    "# FITTING to the FULL DATASET (due to cross-validation)\n",
    "forest_cv.fit(got_data, got_target)\n",
    "\n",
    "\n",
    "# PREDICT step is not needed\n",
    "\n",
    "\n",
    "# printing the optimal parameters and best score\n",
    "print(\"Tuned Parameters  :\", forest_cv.best_params_)\n",
    "print(\"Tuned Training AUC:\", forest_cv.best_score_.round(4))"
   ]
  },
  {
   "cell_type": "code",
   "execution_count": 548,
   "id": "9668036f",
   "metadata": {},
   "outputs": [
    {
     "data": {
      "text/plain": [
       "RandomForestClassifier(bootstrap=False, min_samples_leaf=21, random_state=219,\n",
       "                       warm_start=True)"
      ]
     },
     "execution_count": 548,
     "metadata": {},
     "output_type": "execute_result"
    }
   ],
   "source": [
    "# best estimators based on RandomizedSearchCV\n",
    "forest_cv.best_estimator_"
   ]
  },
  {
   "cell_type": "code",
   "execution_count": 549,
   "id": "b2b2e345",
   "metadata": {},
   "outputs": [
    {
     "name": "stdout",
     "output_type": "stream",
     "text": [
      "Forest Tuned Training ACCURACY: 0.795\n",
      "Forest Tuned Testing  ACCURACY: 0.8769\n",
      "Forest Tuned AUC Score        : 0.76\n"
     ]
    }
   ],
   "source": [
    "# building a model based on hyperparameter tuning results\n",
    "\n",
    "# INSTANTIATING with best_estimator\n",
    "forest_tuned = RandomForestClassifier(criterion        = 'gini',\n",
    "                                      min_samples_leaf = 21,\n",
    "                                      n_estimators     = 100,\n",
    "                                      warm_start       = True,\n",
    "                                      bootstrap        = False,\n",
    "                                      random_state     = 219)\n",
    "\n",
    "\n",
    "# FITTING to the FULL DATASET (due to cross-validation)\n",
    "forest_tuned_fit = forest_tuned.fit(got_data, got_target)\n",
    "\n",
    "\n",
    "# PREDICTING based on the testing set\n",
    "forest_tuned_pred = forest_tuned_fit.predict(x_test)\n",
    "\n",
    "\n",
    "# SCORING the results\n",
    "print('Forest Tuned Training ACCURACY:', forest_tuned.score(x_train, y_train).round(4))\n",
    "print('Forest Tuned Testing  ACCURACY:', forest_tuned.score(x_test, y_test).round(4))\n",
    "print('Forest Tuned AUC Score        :', roc_auc_score(y_true  = y_test,\n",
    "                                                       y_score = forest_tuned_pred).round(4))\n",
    "\n",
    "\n",
    "# saving scoring data for future use\n",
    "forest_tuned_train_score = forest_tuned.score(x_train, y_train).round(4) # accuracy\n",
    "forest_tuned_test_score  = forest_tuned.score(x_test, y_test).round(4)   # accuracy\n",
    "\n",
    "\n",
    "# saving the AUC score\n",
    "forest_tuned_auc = roc_auc_score(y_true  = y_test,\n",
    "                                 y_score = forest_tuned_pred).round(4) # auc"
   ]
  },
  {
   "cell_type": "code",
   "execution_count": 550,
   "id": "43b34daa",
   "metadata": {
    "scrolled": true
   },
   "outputs": [
    {
     "name": "stdout",
     "output_type": "stream",
     "text": [
      "\n",
      "True Negatives : 26\n",
      "False Positives: 24\n",
      "False Negatives: 0\n",
      "True Positives : 145\n",
      "\n"
     ]
    }
   ],
   "source": [
    "# unpacking the confusion matrix\n",
    "tuned_rf_tn, \\\n",
    "tuned_rf_fp, \\\n",
    "tuned_rf_fn, \\\n",
    "tuned_rf_tp = confusion_matrix(y_true = y_test, y_pred = forest_tuned_pred).ravel()\n",
    "\n",
    "\n",
    "# printing each result one-by-one\n",
    "print(f\"\"\"\n",
    "True Negatives : {tuned_rf_tn}\n",
    "False Positives: {tuned_rf_fp}\n",
    "False Negatives: {tuned_rf_fn}\n",
    "True Positives : {tuned_rf_tp}\n",
    "\"\"\")"
   ]
  },
  {
   "cell_type": "markdown",
   "id": "3823654f",
   "metadata": {},
   "source": [
    "# Gradient Boosting Classifier"
   ]
  },
  {
   "cell_type": "markdown",
   "id": "c6da369f",
   "metadata": {},
   "source": [
    "## Full GBM"
   ]
  },
  {
   "cell_type": "code",
   "execution_count": 551,
   "id": "3d7e9725",
   "metadata": {},
   "outputs": [
    {
     "name": "stdout",
     "output_type": "stream",
     "text": [
      "Training ACCURACY: 0.8247\n",
      "Testing ACCURACY : 0.841\n",
      "AUC Score        : 0.7424\n"
     ]
    }
   ],
   "source": [
    "# INSTANTIATING the model object without hyperparameters\n",
    "full_gbm_default = GradientBoostingClassifier(loss          = 'deviance',\n",
    "                                              learning_rate = 0.1,\n",
    "                                              n_estimators  = 100,\n",
    "                                              criterion     = 'friedman_mse',\n",
    "                                              max_depth     = 3,\n",
    "                                              warm_start    = False,\n",
    "                                              random_state  = 219)\n",
    "\n",
    "\n",
    "# FIT step is needed as we are not using .best_estimator\n",
    "full_gbm_default_fit = full_gbm_default.fit(x_train, y_train)\n",
    "\n",
    "\n",
    "# PREDICTING based on the testing set\n",
    "full_gbm_default_pred = full_gbm_default_fit.predict(x_test)\n",
    "\n",
    "\n",
    "# SCORING the results\n",
    "print('Training ACCURACY:', full_gbm_default_fit.score(x_train, y_train).round(4))\n",
    "print('Testing ACCURACY :', full_gbm_default_fit.score(x_test, y_test).round(4))\n",
    "print('AUC Score        :', roc_auc_score(y_true  = y_test,\n",
    "                                          y_score = full_gbm_default_pred).round(4))\n",
    "\n",
    "# saving scoring data for future use\n",
    "full_gbm_default_train_score = full_gbm_default_fit.score(x_train, y_train).round(4) # accuracy\n",
    "full_gbm_default_test_score  = full_gbm_default_fit.score(x_test, y_test).round(4)   # accuracy\n",
    "\n",
    "\n",
    "# saving the AUC score\n",
    "full_gbm_default_auc = roc_auc_score(y_true  = y_test,\n",
    "                                          y_score = full_gbm_default_pred).round(4) # auc"
   ]
  },
  {
   "cell_type": "code",
   "execution_count": 552,
   "id": "afaaa4c9",
   "metadata": {
    "scrolled": true
   },
   "outputs": [
    {
     "name": "stdout",
     "output_type": "stream",
     "text": [
      "\n",
      "True Negatives : 27\n",
      "False Positives: 23\n",
      "False Negatives: 8\n",
      "True Positives : 137\n",
      "\n"
     ]
    }
   ],
   "source": [
    "# unpacking the confusion matrix\n",
    "gbm_default_tn, \\\n",
    "gbm_default_fp, \\\n",
    "gbm_default_fn, \\\n",
    "gbm_default_tp = confusion_matrix(y_true = y_test, y_pred = full_gbm_default_pred).ravel()\n",
    "\n",
    "\n",
    "# printing each result one-by-one\n",
    "print(f\"\"\"\n",
    "True Negatives : {gbm_default_tn}\n",
    "False Positives: {gbm_default_fp}\n",
    "False Negatives: {gbm_default_fn}\n",
    "True Positives : {gbm_default_tp}\n",
    "\"\"\")"
   ]
  },
  {
   "cell_type": "markdown",
   "id": "5fb95e6c",
   "metadata": {},
   "source": [
    "## Tuned GBM"
   ]
  },
  {
   "cell_type": "markdown",
   "id": "aa48448b",
   "metadata": {},
   "source": [
    "After having executed a Gradient Boosting Classifier model, I used RandomizedSearchCV to optimize my hyperparameters and have a new model: the Tuned GBM."
   ]
  },
  {
   "cell_type": "code",
   "execution_count": 553,
   "id": "ef4cdac5",
   "metadata": {},
   "outputs": [],
   "source": [
    "# declaring a hyperparameter space\n",
    "#learn_range        = np.arange(0.1, 2.2, 0.5)\n",
    "#estimator_range    = np.arange(100, 501, 25)\n",
    "#depth_range        = np.arange(2, 11, 2)\n",
    "#warm_start_range   = [True, False]\n",
    "\n",
    "# creating a hyperparameter grid\n",
    "#param_grid = {'learning_rate' : learn_range,\n",
    "              #'max_depth'     : depth_range,\n",
    "              #'n_estimators'  : estimator_range,\n",
    "              #'warm_start'    : warm_start_range}\n",
    "\n",
    "\n",
    "# INSTANTIATING the model object without hyperparameters\n",
    "#full_gbm_grid = GradientBoostingClassifier(random_state = 219)\n",
    "\n",
    "\n",
    "# GridSearchCV object\n",
    "#full_gbm_cv = RandomizedSearchCV(estimator     = full_gbm_grid,\n",
    "                           #param_distributions = param_grid,\n",
    "                           #cv                  = 3,\n",
    "                           #n_iter              = 500,\n",
    "                           #random_state        = 219,\n",
    "                           #scoring             = make_scorer(roc_auc_score,\n",
    "                                                 #needs_threshold = False))\n",
    "\n",
    "\n",
    "# FITTING to the FULL DATASET (due to cross-validation)\n",
    "#full_gbm_cv.fit(got_data, got_target)\n",
    "\n",
    "\n",
    "# PREDICT step is not needed\n",
    "\n",
    "\n",
    "# printing the optimal parameters and best score\n",
    "#print(\"Tuned Parameters  :\", full_gbm_cv.best_params_)\n",
    "##print(\"Tuned Training AUC:\", full_gbm_cv.best_score_.round(4))"
   ]
  },
  {
   "cell_type": "code",
   "execution_count": 554,
   "id": "31b5d60b",
   "metadata": {},
   "outputs": [],
   "source": [
    "#full_gbm_cv.best_estimator_"
   ]
  },
  {
   "cell_type": "markdown",
   "id": "2af9cd52",
   "metadata": {},
   "source": [
    " Likewise, I put the two code cells, above, in blue because the time that you gave us to execute the whole code, is 240 seconds. Thus, as the execution of these codes exceeded this time limit, I preferred to show you the method that allowed me to have the parameters of the cell that follows.  "
   ]
  },
  {
   "cell_type": "code",
   "execution_count": 555,
   "id": "270b7342",
   "metadata": {},
   "outputs": [
    {
     "name": "stdout",
     "output_type": "stream",
     "text": [
      "Training ACCURACY: 0.7207\n",
      "Testing  ACCURACY: 0.7385\n",
      "AUC Score        : 0.6669\n"
     ]
    }
   ],
   "source": [
    "# INSTANTIATING with best_estimator\n",
    "gbm_tuned = GradientBoostingClassifier(learning_rate = 2.1,\n",
    "                                       max_depth     = 6,\n",
    "                                       n_estimators  = 175,\n",
    "                                       warm_start    = False,\n",
    "                                       random_state  = 219)\n",
    "\n",
    "\n",
    "# FITTING to the FULL DATASET (due to cross-validation)\n",
    "gbm_tuned_fit = gbm_tuned.fit(got_data, got_target)\n",
    "\n",
    "\n",
    "# PREDICTING based on the testing set\n",
    "gbm_tuned_pred = gbm_tuned_fit.predict(x_test)\n",
    "\n",
    "\n",
    "# SCORING the results\n",
    "print('Training ACCURACY:', gbm_tuned_fit.score(x_train, y_train).round(4))\n",
    "print('Testing  ACCURACY:', gbm_tuned_fit.score(x_test, y_test).round(4))\n",
    "print('AUC Score        :', roc_auc_score(y_true  = y_test,\n",
    "                                          y_score = gbm_tuned_pred).round(4))\n",
    "\n",
    "# saving scoring data for future use\n",
    "gbm_tuned_train_score = gbm_tuned_fit.score(x_train, y_train).round(4) # accuracy\n",
    "gbm_tuned_test_score  = gbm_tuned_fit.score(x_test, y_test).round(4)   # accuracy\n",
    "\n",
    "\n",
    "# saving the AUC score\n",
    "gbm_tuned_auc = roc_auc_score(y_true  = y_test,\n",
    "                                          y_score = gbm_tuned_pred).round(4) # auc"
   ]
  },
  {
   "cell_type": "code",
   "execution_count": 556,
   "id": "2917ca5a",
   "metadata": {
    "scrolled": true
   },
   "outputs": [
    {
     "name": "stdout",
     "output_type": "stream",
     "text": [
      "\n",
      "True Negatives : 26\n",
      "False Positives: 24\n",
      "False Negatives: 27\n",
      "True Positives : 118\n",
      "\n"
     ]
    }
   ],
   "source": [
    "# unpacking the confusion matrix\n",
    "gbm_tuned_tn, \\\n",
    "gbm_tuned_fp, \\\n",
    "gbm_tuned_fn, \\\n",
    "gbm_tuned_tp = confusion_matrix(y_true = y_test, y_pred = gbm_tuned_pred).ravel()\n",
    "\n",
    "\n",
    "# printing each result one-by-one\n",
    "print(f\"\"\"\n",
    "True Negatives : {gbm_tuned_tn}\n",
    "False Positives: {gbm_tuned_fp}\n",
    "False Negatives: {gbm_tuned_fn}\n",
    "True Positives : {gbm_tuned_tp}\n",
    "\"\"\")"
   ]
  },
  {
   "cell_type": "markdown",
   "id": "b67d9341",
   "metadata": {},
   "source": [
    "# RESULTS"
   ]
  },
  {
   "cell_type": "code",
   "execution_count": 557,
   "id": "cc84a24d",
   "metadata": {},
   "outputs": [
    {
     "name": "stdout",
     "output_type": "stream",
     "text": [
      "\n",
      "Model          Training Accuracy        Testing Accuracy          AUC Score      Confusion Matrix\n",
      "------------   ------------------       ----------------          ---------      ----------------\n",
      "Logistic        0.7761                   0.8615                   0.7628         (28, 22, 5, 140)\n",
      "Full Tree       1.0                      0.7077                   0.6659         (29, 21, 36, 109)\n",
      "Pruned Tree     0.7875                   0.8615                   0.7628         (28, 22, 5, 140)\n",
      "*KNN            0.7984                   0.8718                   0.8155         (35, 15, 10, 135)\n",
      "RandomForest    0.7887                   0.8308                   0.67           (17, 33, 0, 145)\n",
      "Tuned Forest    0.795                    0.8769                   0.76           (26, 24, 0, 145)\n",
      "Full GBM        0.8247                   0.841                    0.7424         (27, 23, 8, 137)\n",
      "Tuned GBM       0.7207                   0.7385                   0.6669         (26, 24, 27, 118)\n",
      "\n"
     ]
    }
   ],
   "source": [
    "# comparing results\n",
    "print(f\"\"\"\n",
    "Model          Training Accuracy        Testing Accuracy          AUC Score      Confusion Matrix\n",
    "------------   ------------------       ----------------          ---------      ----------------\n",
    "Logistic        {logreg_train_score}                   {logreg_test_score}                   {logreg_auc_score}         {logreg_tn, logreg_fp, logreg_fn, logreg_tp}\n",
    "Full Tree       {full_tree_train_score}                      {full_tree_test_score}                   {full_tree_auc_score}         {full_tree_tn, full_tree_fp, full_tree_fn, full_tree_tp}\n",
    "Pruned Tree     {pruned_tree_train_score}                   {pruned_tree_test_score}                   {pruned_tree_auc_score}         {pruned_tree_tn, pruned_tree_fp, pruned_tree_fn, pruned_tree_tp}\n",
    "*KNN            {knn_train_score}                   {knn_test_score}                   {knn_auc_score}         {knn_tree_tn,knn_tree_fp, knn_tree_fn,knn_tree_tp}\n",
    "RandomForest    {rf_default_train_score}                   {rf_default_test_score}                   {rf_default_auc_score}           {rf_default_tn,rf_default_fp, rf_default_fn,rf_default_tp}\n",
    "Tuned Forest    {forest_tuned_train_score}                    {forest_tuned_test_score}                   {forest_tuned_auc}           {tuned_rf_tn,tuned_rf_fp,tuned_rf_fn,tuned_rf_tp}\n",
    "Full GBM        {full_gbm_default_train_score}                   {full_gbm_default_test_score}                    {full_gbm_default_auc}         {gbm_default_tn,gbm_default_fp,gbm_default_fn,gbm_default_tp}\n",
    "Tuned GBM       {gbm_tuned_train_score}                   {gbm_tuned_test_score}                   {gbm_tuned_auc}         {gbm_tuned_tn,gbm_tuned_fp,gbm_tuned_fn,gbm_tuned_tp}\n",
    "\"\"\")\n",
    "\n",
    "\n",
    "# creating a dictionary for model results\n",
    "model_performance = {\n",
    "    \n",
    "    'Model Name'    : ['Logistic', 'Full Tree', 'Pruned Tree', 'KNN','RandomForest',\n",
    "                       'Tuned Forest','Full GBM','Tuned GBM'],\n",
    "           \n",
    "    'AUC Score' : [logreg_auc_score, full_tree_auc_score, pruned_tree_auc_score,\n",
    "                   knn_auc_score,rf_default_auc_score, forest_tuned_auc,\n",
    "                   full_gbm_default_auc,gbm_tuned_auc],\n",
    "    \n",
    "    'Training Accuracy' : [logreg_train_score, full_tree_train_score,\n",
    "                           pruned_tree_train_score, knn_train_score,\n",
    "                           rf_default_train_score, forest_tuned_train_score,\n",
    "                           full_gbm_default_train_score,gbm_tuned_train_score],\n",
    "           \n",
    "    'Testing Accuracy'  : [logreg_test_score, full_tree_test_score,\n",
    "                           pruned_tree_test_score, knn_test_score, \n",
    "                           rf_default_test_score,forest_tuned_test_score,\n",
    "                           full_gbm_default_test_score,gbm_tuned_test_score],\n",
    "\n",
    "    'Confusion Matrix'  : [(logreg_tn, logreg_fp, logreg_fn, logreg_tp),\n",
    "                           (full_tree_tn, full_tree_fp, full_tree_fn, full_tree_tp),\n",
    "                           (pruned_tree_tn, pruned_tree_fp, pruned_tree_fn, pruned_tree_tp),\n",
    "                           (knn_tree_tn,knn_tree_fp, knn_tree_fn,knn_tree_tp),\n",
    "                           (rf_default_tn,rf_default_fp, rf_default_fn,rf_default_tp),\n",
    "                           (tuned_rf_tn,tuned_rf_fp,tuned_rf_fn,tuned_rf_tp), \n",
    "                           (gbm_default_tn,gbm_default_fp,gbm_default_fn,gbm_default_tp),\n",
    "                           (gbm_tuned_tn,gbm_tuned_fp,gbm_tuned_fn,gbm_tuned_tp)]}\n",
    "\n",
    "\n",
    "# converting model_performance into a DataFrame\n",
    "model_performance = pd.DataFrame(model_performance)\n"
   ]
  },
  {
   "cell_type": "markdown",
   "id": "cdf496fc",
   "metadata": {},
   "source": [
    "Classification Modeling with KNN is the best model because it has a AUC score of 0.8155."
   ]
  },
  {
   "cell_type": "code",
   "execution_count": null,
   "id": "d29e800f",
   "metadata": {},
   "outputs": [],
   "source": []
  }
 ],
 "metadata": {
  "kernelspec": {
   "display_name": "Python 3 (ipykernel)",
   "language": "python",
   "name": "python3"
  },
  "language_info": {
   "codemirror_mode": {
    "name": "ipython",
    "version": 3
   },
   "file_extension": ".py",
   "mimetype": "text/x-python",
   "name": "python",
   "nbconvert_exporter": "python",
   "pygments_lexer": "ipython3",
   "version": "3.8.8"
  },
  "toc": {
   "base_numbering": 1,
   "nav_menu": {},
   "number_sections": true,
   "sideBar": true,
   "skip_h1_title": false,
   "title_cell": "Table of Contents",
   "title_sidebar": "Contents",
   "toc_cell": false,
   "toc_position": {
    "height": "calc(100% - 180px)",
    "left": "10px",
    "top": "150px",
    "width": "265.797px"
   },
   "toc_section_display": true,
   "toc_window_display": true
  },
  "varInspector": {
   "cols": {
    "lenName": 16,
    "lenType": 16,
    "lenVar": 40
   },
   "kernels_config": {
    "python": {
     "delete_cmd_postfix": "",
     "delete_cmd_prefix": "del ",
     "library": "var_list.py",
     "varRefreshCmd": "print(var_dic_list())"
    },
    "r": {
     "delete_cmd_postfix": ") ",
     "delete_cmd_prefix": "rm(",
     "library": "var_list.r",
     "varRefreshCmd": "cat(var_dic_list()) "
    }
   },
   "types_to_exclude": [
    "module",
    "function",
    "builtin_function_or_method",
    "instance",
    "_Feature"
   ],
   "window_display": false
  }
 },
 "nbformat": 4,
 "nbformat_minor": 5
}
